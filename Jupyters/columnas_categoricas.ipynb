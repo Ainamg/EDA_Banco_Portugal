{
 "cells": [
  {
   "cell_type": "markdown",
   "id": "1eceea92",
   "metadata": {},
   "source": [
    "### Análisis y gestión de nulos de las columnas categóricas"
   ]
  },
  {
   "cell_type": "code",
   "execution_count": 1,
   "id": "84216499",
   "metadata": {},
   "outputs": [],
   "source": [
    "#Importaciones de paquetes\n",
    "import pandas as pd\n",
    "import numpy as np\n",
    "import sys \n",
    "sys.path.append(\"..\")\n",
    "\n",
    "#Paquetes de visualización\n",
    "import matplotlib.pyplot as plt\n",
    "import seaborn as sns\n",
    "\n",
    "#Importaciones de unidades de soporte\n",
    "from SRC import sp_eda, sp_visualizacion"
   ]
  },
  {
   "cell_type": "code",
   "execution_count": 2,
   "id": "47de9482",
   "metadata": {},
   "outputs": [
    {
     "name": "stdout",
     "output_type": "stream",
     "text": [
      "<class 'pandas.core.frame.DataFrame'>\n",
      "RangeIndex: 43000 entries, 0 to 42999\n",
      "Data columns (total 27 columns):\n",
      " #   Column          Non-Null Count  Dtype  \n",
      "---  ------          --------------  -----  \n",
      " 0   age             37880 non-null  float64\n",
      " 1   job             42655 non-null  object \n",
      " 2   marital         42915 non-null  object \n",
      " 3   education       41193 non-null  object \n",
      " 4   default         34019 non-null  float64\n",
      " 5   housing         41974 non-null  float64\n",
      " 6   loan            41974 non-null  float64\n",
      " 7   contact         43000 non-null  object \n",
      " 8   duration        43000 non-null  int64  \n",
      " 9   campaign        43000 non-null  int64  \n",
      " 10  pdays           43000 non-null  int64  \n",
      " 11  previous        43000 non-null  int64  \n",
      " 12  poutcome        43000 non-null  object \n",
      " 13  emp_var_rate    43000 non-null  object \n",
      " 14  cons_price_idx  42529 non-null  object \n",
      " 15  cons_conf_idx   43000 non-null  object \n",
      " 16  euribor3m       33744 non-null  object \n",
      " 17  nr_employed     43000 non-null  object \n",
      " 18  y               43000 non-null  object \n",
      " 19  latitude        43000 non-null  object \n",
      " 20  longitude       43000 non-null  object \n",
      " 21  id_             43000 non-null  object \n",
      " 22  date_dt         42752 non-null  object \n",
      " 23  year            42752 non-null  float64\n",
      " 24  month           42752 non-null  float64\n",
      " 25  day             42752 non-null  object \n",
      " 26  quarter         42752 non-null  float64\n",
      "dtypes: float64(7), int64(4), object(16)\n",
      "memory usage: 8.9+ MB\n"
     ]
    }
   ],
   "source": [
    "# Leer el archivo de data_limipios.csv\n",
    "df_limpios = pd.read_csv('../Data/data_limpios.csv')\n",
    "df_limpios.info()"
   ]
  },
  {
   "cell_type": "code",
   "execution_count": 3,
   "id": "e8d5c0ff",
   "metadata": {},
   "outputs": [],
   "source": [
    "numero_nulos_df_limpios, porcentaje_nulos_df_limpios = sp_eda.calcular_nulos(df_limpios)"
   ]
  },
  {
   "cell_type": "code",
   "execution_count": 4,
   "id": "f196adeb",
   "metadata": {},
   "outputs": [
    {
     "data": {
      "text/plain": [
       "age               5120\n",
       "job                345\n",
       "marital             85\n",
       "education         1807\n",
       "default           8981\n",
       "housing           1026\n",
       "loan              1026\n",
       "contact              0\n",
       "duration             0\n",
       "campaign             0\n",
       "pdays                0\n",
       "previous             0\n",
       "poutcome             0\n",
       "emp_var_rate         0\n",
       "cons_price_idx     471\n",
       "cons_conf_idx        0\n",
       "euribor3m         9256\n",
       "nr_employed          0\n",
       "y                    0\n",
       "latitude             0\n",
       "longitude            0\n",
       "id_                  0\n",
       "date_dt            248\n",
       "year               248\n",
       "month              248\n",
       "day                248\n",
       "quarter            248\n",
       "dtype: int64"
      ]
     },
     "execution_count": 4,
     "metadata": {},
     "output_type": "execute_result"
    }
   ],
   "source": [
    "numero_nulos_df_limpios "
   ]
  },
  {
   "cell_type": "code",
   "execution_count": 5,
   "id": "4456a3ee",
   "metadata": {},
   "outputs": [
    {
     "data": {
      "text/plain": [
       "age               11.906977\n",
       "job                0.802326\n",
       "marital            0.197674\n",
       "education          4.202326\n",
       "default           20.886047\n",
       "housing            2.386047\n",
       "loan               2.386047\n",
       "contact            0.000000\n",
       "duration           0.000000\n",
       "campaign           0.000000\n",
       "pdays              0.000000\n",
       "previous           0.000000\n",
       "poutcome           0.000000\n",
       "emp_var_rate       0.000000\n",
       "cons_price_idx     1.095349\n",
       "cons_conf_idx      0.000000\n",
       "euribor3m         21.525581\n",
       "nr_employed        0.000000\n",
       "y                  0.000000\n",
       "latitude           0.000000\n",
       "longitude          0.000000\n",
       "id_                0.000000\n",
       "date_dt            0.576744\n",
       "year               0.576744\n",
       "month              0.576744\n",
       "day                0.576744\n",
       "quarter            0.576744\n",
       "dtype: float64"
      ]
     },
     "execution_count": 5,
     "metadata": {},
     "output_type": "execute_result"
    }
   ],
   "source": [
    "porcentaje_nulos_df_limpios"
   ]
  },
  {
   "cell_type": "code",
   "execution_count": 6,
   "id": "3a30e291",
   "metadata": {},
   "outputs": [
    {
     "data": {
      "text/plain": [
       "16"
      ]
     },
     "execution_count": 6,
     "metadata": {},
     "output_type": "execute_result"
    }
   ],
   "source": [
    "# Seleccionamos las columnas categóricas\n",
    "col_catg = df_limpios.select_dtypes(include=\"O\").columns\n",
    "len(col_catg)"
   ]
  },
  {
   "cell_type": "code",
   "execution_count": 7,
   "id": "7a6e079d",
   "metadata": {},
   "outputs": [
    {
     "name": "stdout",
     "output_type": "stream",
     "text": [
      "La distribución de la columna JOB\n",
      "Esta columna tiene 12 valores únicos\n"
     ]
    },
    {
     "data": {
      "text/plain": [
       "job\n",
       "admin.           0.254906\n",
       "blue-collar      0.226328\n",
       "technician       0.164717\n",
       "services         0.097574\n",
       "management       0.071504\n",
       "retired          0.041965\n",
       "entrepreneur     0.035682\n",
       "self-employed    0.034908\n",
       "housemaid        0.026328\n",
       "unemployed       0.024921\n",
       "student          0.021170\n",
       "Name: proportion, dtype: float64"
      ]
     },
     "metadata": {},
     "output_type": "display_data"
    },
    {
     "name": "stdout",
     "output_type": "stream",
     "text": [
      "--------------\n",
      " Describe\n"
     ]
    },
    {
     "data": {
      "text/plain": [
       "count      42655\n",
       "unique        11\n",
       "top       admin.\n",
       "freq       10873\n",
       "Name: job, dtype: object"
      ]
     },
     "metadata": {},
     "output_type": "display_data"
    },
    {
     "name": "stdout",
     "output_type": "stream",
     "text": [
      "--------------\n",
      "La distribución de la columna MARITAL\n",
      "Esta columna tiene 4 valores únicos\n"
     ]
    },
    {
     "data": {
      "text/plain": [
       "marital\n",
       "married     0.605825\n",
       "single      0.282069\n",
       "divorced    0.112105\n",
       "Name: proportion, dtype: float64"
      ]
     },
     "metadata": {},
     "output_type": "display_data"
    },
    {
     "name": "stdout",
     "output_type": "stream",
     "text": [
      "--------------\n",
      " Describe\n"
     ]
    },
    {
     "data": {
      "text/plain": [
       "count       42915\n",
       "unique          3\n",
       "top       married\n",
       "freq        25999\n",
       "Name: marital, dtype: object"
      ]
     },
     "metadata": {},
     "output_type": "display_data"
    },
    {
     "name": "stdout",
     "output_type": "stream",
     "text": [
      "--------------\n",
      "La distribución de la columna EDUCATION\n",
      "Esta columna tiene 8 valores únicos\n"
     ]
    },
    {
     "data": {
      "text/plain": [
       "education\n",
       "university.degree      0.308839\n",
       "high.school            0.240939\n",
       "basic.9y               0.153157\n",
       "professional.course    0.132959\n",
       "basic.4y               0.105746\n",
       "basic.6y               0.057922\n",
       "illiterate             0.000437\n",
       "Name: proportion, dtype: float64"
      ]
     },
     "metadata": {},
     "output_type": "display_data"
    },
    {
     "name": "stdout",
     "output_type": "stream",
     "text": [
      "--------------\n",
      " Describe\n"
     ]
    },
    {
     "data": {
      "text/plain": [
       "count                 41193\n",
       "unique                    7\n",
       "top       university.degree\n",
       "freq                  12722\n",
       "Name: education, dtype: object"
      ]
     },
     "metadata": {},
     "output_type": "display_data"
    },
    {
     "name": "stdout",
     "output_type": "stream",
     "text": [
      "--------------\n",
      "La distribución de la columna CONTACT\n",
      "Esta columna tiene 2 valores únicos\n"
     ]
    },
    {
     "data": {
      "text/plain": [
       "contact\n",
       "cellular     0.637116\n",
       "telephone    0.362884\n",
       "Name: proportion, dtype: float64"
      ]
     },
     "metadata": {},
     "output_type": "display_data"
    },
    {
     "name": "stdout",
     "output_type": "stream",
     "text": [
      "--------------\n",
      " Describe\n"
     ]
    },
    {
     "data": {
      "text/plain": [
       "count        43000\n",
       "unique           2\n",
       "top       cellular\n",
       "freq         27396\n",
       "Name: contact, dtype: object"
      ]
     },
     "metadata": {},
     "output_type": "display_data"
    },
    {
     "name": "stdout",
     "output_type": "stream",
     "text": [
      "--------------\n",
      "La distribución de la columna POUTCOME\n",
      "Esta columna tiene 3 valores únicos\n"
     ]
    },
    {
     "data": {
      "text/plain": [
       "poutcome\n",
       "nonexistent    0.862860\n",
       "failure        0.103744\n",
       "success        0.033395\n",
       "Name: proportion, dtype: float64"
      ]
     },
     "metadata": {},
     "output_type": "display_data"
    },
    {
     "name": "stdout",
     "output_type": "stream",
     "text": [
      "--------------\n",
      " Describe\n"
     ]
    },
    {
     "data": {
      "text/plain": [
       "count           43000\n",
       "unique              3\n",
       "top       nonexistent\n",
       "freq            37103\n",
       "Name: poutcome, dtype: object"
      ]
     },
     "metadata": {},
     "output_type": "display_data"
    },
    {
     "name": "stdout",
     "output_type": "stream",
     "text": [
      "--------------\n",
      "La distribución de la columna EMP_VAR_RATE\n",
      "Esta columna tiene 10 valores únicos\n"
     ]
    },
    {
     "data": {
      "text/plain": [
       "emp_var_rate\n",
       "1,4     0.394884\n",
       "-1,8    0.223721\n",
       "1,1     0.186512\n",
       "-0,1    0.089070\n",
       "-2,9    0.040651\n",
       "-3,4    0.026349\n",
       "-1,7    0.018884\n",
       "-1,1    0.015465\n",
       "-3,0    0.004209\n",
       "-0,2    0.000256\n",
       "Name: proportion, dtype: float64"
      ]
     },
     "metadata": {},
     "output_type": "display_data"
    },
    {
     "name": "stdout",
     "output_type": "stream",
     "text": [
      "--------------\n",
      " Describe\n"
     ]
    },
    {
     "data": {
      "text/plain": [
       "count     43000\n",
       "unique       10\n",
       "top         1,4\n",
       "freq      16980\n",
       "Name: emp_var_rate, dtype: object"
      ]
     },
     "metadata": {},
     "output_type": "display_data"
    },
    {
     "name": "stdout",
     "output_type": "stream",
     "text": [
      "--------------\n",
      "La distribución de la columna CONS_PRICE_IDX\n",
      "Esta columna tiene 27 valores únicos\n"
     ]
    },
    {
     "data": {
      "text/plain": [
       "cons_price_idx\n",
       "93,994    0.186649\n",
       "93,918    0.163112\n",
       "92,893    0.140728\n",
       "93,444    0.125773\n",
       "94,465    0.106327\n",
       "93,2      0.087728\n",
       "93,075    0.060006\n",
       "92,201    0.018881\n",
       "92,963    0.017447\n",
       "92,431    0.011075\n",
       "92,649    0.008818\n",
       "94,215    0.007524\n",
       "94,199    0.007430\n",
       "92,843    0.007007\n",
       "92,379    0.006443\n",
       "93,369    0.006372\n",
       "94,027    0.005690\n",
       "94,055    0.005549\n",
       "93,876    0.005267\n",
       "94,601    0.004985\n",
       "92,469    0.004326\n",
       "92,713    0.004209\n",
       "93,749    0.004209\n",
       "94,767    0.003057\n",
       "93,798    0.001129\n",
       "92,756    0.000259\n",
       "Name: proportion, dtype: float64"
      ]
     },
     "metadata": {},
     "output_type": "display_data"
    },
    {
     "name": "stdout",
     "output_type": "stream",
     "text": [
      "--------------\n",
      " Describe\n"
     ]
    },
    {
     "data": {
      "text/plain": [
       "count      42529\n",
       "unique        26\n",
       "top       93,994\n",
       "freq        7938\n",
       "Name: cons_price_idx, dtype: object"
      ]
     },
     "metadata": {},
     "output_type": "display_data"
    },
    {
     "name": "stdout",
     "output_type": "stream",
     "text": [
      "--------------\n",
      "La distribución de la columna CONS_CONF_IDX\n",
      "Esta columna tiene 26 valores únicos\n"
     ]
    },
    {
     "data": {
      "text/plain": [
       "cons_conf_idx\n",
       "-36,4    0.186512\n",
       "-42,7    0.162884\n",
       "-46,2    0.140860\n",
       "-36,1    0.125767\n",
       "-41,8    0.106233\n",
       "-42      0.087953\n",
       "-47,1    0.060023\n",
       "-31,4    0.018953\n",
       "-40,8    0.017395\n",
       "-26,9    0.011093\n",
       "-30,1    0.008814\n",
       "-40,3    0.007628\n",
       "-37,5    0.007395\n",
       "-50      0.006953\n",
       "-29,8    0.006442\n",
       "-34,8    0.006395\n",
       "-38,3    0.005698\n",
       "-39,8    0.005558\n",
       "-40      0.005233\n",
       "-49,5    0.004977\n",
       "-33,6    0.004302\n",
       "-34,6    0.004256\n",
       "-33      0.004209\n",
       "-50,8    0.003093\n",
       "-40,4    0.001116\n",
       "-45,9    0.000256\n",
       "Name: proportion, dtype: float64"
      ]
     },
     "metadata": {},
     "output_type": "display_data"
    },
    {
     "name": "stdout",
     "output_type": "stream",
     "text": [
      "--------------\n",
      " Describe\n"
     ]
    },
    {
     "data": {
      "text/plain": [
       "count     43000\n",
       "unique       26\n",
       "top       -36,4\n",
       "freq       8020\n",
       "Name: cons_conf_idx, dtype: object"
      ]
     },
     "metadata": {},
     "output_type": "display_data"
    },
    {
     "name": "stdout",
     "output_type": "stream",
     "text": [
      "--------------\n",
      "La distribución de la columna EURIBOR3M\n",
      "Esta columna tiene 310 valores únicos\n"
     ]
    },
    {
     "data": {
      "text/plain": [
       "euribor3m\n",
       "4,857    0.067775\n",
       "4,962    0.062945\n",
       "4,963    0.059833\n",
       "4,961    0.047238\n",
       "4,964    0.028568\n",
       "           ...   \n",
       "3,743    0.000030\n",
       "3,563    0.000030\n",
       "3,488    0.000030\n",
       "3,428    0.000030\n",
       "0,969    0.000030\n",
       "Name: proportion, Length: 309, dtype: float64"
      ]
     },
     "metadata": {},
     "output_type": "display_data"
    },
    {
     "name": "stdout",
     "output_type": "stream",
     "text": [
      "--------------\n",
      " Describe\n"
     ]
    },
    {
     "data": {
      "text/plain": [
       "count     33744\n",
       "unique      309\n",
       "top       4,857\n",
       "freq       2287\n",
       "Name: euribor3m, dtype: object"
      ]
     },
     "metadata": {},
     "output_type": "display_data"
    },
    {
     "name": "stdout",
     "output_type": "stream",
     "text": [
      "--------------\n",
      "La distribución de la columna NR_EMPLOYED\n",
      "Esta columna tiene 11 valores únicos\n"
     ]
    },
    {
     "data": {
      "text/plain": [
       "nr_employed\n",
       "5228,1    0.394884\n",
       "5099,1    0.207837\n",
       "5191      0.186512\n",
       "5195,8    0.089070\n",
       "5076,2    0.040651\n",
       "5017,5    0.026349\n",
       "4991,6    0.018884\n",
       "5008,7    0.015884\n",
       "4963,6    0.015465\n",
       "5023,5    0.004209\n",
       "5176,3    0.000256\n",
       "Name: proportion, dtype: float64"
      ]
     },
     "metadata": {},
     "output_type": "display_data"
    },
    {
     "name": "stdout",
     "output_type": "stream",
     "text": [
      "--------------\n",
      " Describe\n"
     ]
    },
    {
     "data": {
      "text/plain": [
       "count      43000\n",
       "unique        11\n",
       "top       5228,1\n",
       "freq       16980\n",
       "Name: nr_employed, dtype: object"
      ]
     },
     "metadata": {},
     "output_type": "display_data"
    },
    {
     "name": "stdout",
     "output_type": "stream",
     "text": [
      "--------------\n",
      "La distribución de la columna Y\n",
      "Esta columna tiene 2 valores únicos\n"
     ]
    },
    {
     "data": {
      "text/plain": [
       "y\n",
       "no     0.887349\n",
       "yes    0.112651\n",
       "Name: proportion, dtype: float64"
      ]
     },
     "metadata": {},
     "output_type": "display_data"
    },
    {
     "name": "stdout",
     "output_type": "stream",
     "text": [
      "--------------\n",
      " Describe\n"
     ]
    },
    {
     "data": {
      "text/plain": [
       "count     43000\n",
       "unique        2\n",
       "top          no\n",
       "freq      38156\n",
       "Name: y, dtype: object"
      ]
     },
     "metadata": {},
     "output_type": "display_data"
    },
    {
     "name": "stdout",
     "output_type": "stream",
     "text": [
      "--------------\n",
      "La distribución de la columna LATITUDE\n",
      "Esta columna tiene 20491 valores únicos\n"
     ]
    },
    {
     "data": {
      "text/plain": [
       "latitude\n",
       "44,675    0.000233\n",
       "36,826    0.000209\n",
       "30,579    0.000186\n",
       "47,146    0.000186\n",
       "32,888    0.000186\n",
       "            ...   \n",
       "29,918    0.000023\n",
       "31,848    0.000023\n",
       "42,991    0.000023\n",
       "46,966    0.000023\n",
       "27,772    0.000023\n",
       "Name: proportion, Length: 20491, dtype: float64"
      ]
     },
     "metadata": {},
     "output_type": "display_data"
    },
    {
     "name": "stdout",
     "output_type": "stream",
     "text": [
      "--------------\n",
      " Describe\n"
     ]
    },
    {
     "data": {
      "text/plain": [
       "count      43000\n",
       "unique     20491\n",
       "top       44,675\n",
       "freq          10\n",
       "Name: latitude, dtype: object"
      ]
     },
     "metadata": {},
     "output_type": "display_data"
    },
    {
     "name": "stdout",
     "output_type": "stream",
     "text": [
      "--------------\n",
      "La distribución de la columna LONGITUDE\n",
      "Esta columna tiene 30448 valores únicos\n"
     ]
    },
    {
     "data": {
      "text/plain": [
       "longitude\n",
       "-105,981    0.000140\n",
       "-109,152    0.000140\n",
       "-84,358     0.000140\n",
       "-80,0       0.000140\n",
       "-88,922     0.000140\n",
       "              ...   \n",
       "-80,161     0.000023\n",
       "-118,178    0.000023\n",
       "-116,422    0.000023\n",
       "-73,992     0.000023\n",
       "-105,026    0.000023\n",
       "Name: proportion, Length: 30448, dtype: float64"
      ]
     },
     "metadata": {},
     "output_type": "display_data"
    },
    {
     "name": "stdout",
     "output_type": "stream",
     "text": [
      "--------------\n",
      " Describe\n"
     ]
    },
    {
     "data": {
      "text/plain": [
       "count        43000\n",
       "unique       30448\n",
       "top       -105,981\n",
       "freq             6\n",
       "Name: longitude, dtype: object"
      ]
     },
     "metadata": {},
     "output_type": "display_data"
    },
    {
     "name": "stdout",
     "output_type": "stream",
     "text": [
      "--------------\n",
      "La distribución de la columna ID_\n",
      "Esta columna tiene 43000 valores únicos\n"
     ]
    },
    {
     "data": {
      "text/plain": [
       "id_\n",
       "089b39d8-e4d0-461b-87d4-814d71e0e079    0.000023\n",
       "c25b5d31-bb7e-41af-898d-42bf3e479351    0.000023\n",
       "bfd6bad9-f23a-445a-838e-10ee90110534    0.000023\n",
       "075b0e72-b5e3-43f4-90cd-29f9090b2b1a    0.000023\n",
       "482a2d86-c9f0-46b7-9f6f-82c769690d48    0.000023\n",
       "                                          ...   \n",
       "27e317a2-722c-454d-850b-97b536029c81    0.000023\n",
       "6d9c117f-af67-4a89-83db-caf514a42374    0.000023\n",
       "6a229b87-6bf9-4339-9639-b98555df71e7    0.000023\n",
       "cc891cf7-206c-47f0-804f-20b5b757d5fc    0.000023\n",
       "993bbbd6-4dbc-4a40-a408-f91f8462bee6    0.000023\n",
       "Name: proportion, Length: 43000, dtype: float64"
      ]
     },
     "metadata": {},
     "output_type": "display_data"
    },
    {
     "name": "stdout",
     "output_type": "stream",
     "text": [
      "--------------\n",
      " Describe\n"
     ]
    },
    {
     "data": {
      "text/plain": [
       "count                                    43000\n",
       "unique                                   43000\n",
       "top       089b39d8-e4d0-461b-87d4-814d71e0e079\n",
       "freq                                         1\n",
       "Name: id_, dtype: object"
      ]
     },
     "metadata": {},
     "output_type": "display_data"
    },
    {
     "name": "stdout",
     "output_type": "stream",
     "text": [
      "--------------\n",
      "La distribución de la columna DATE_DT\n",
      "Esta columna tiene 1826 valores únicos\n"
     ]
    },
    {
     "data": {
      "text/plain": [
       "date_dt\n",
       "2018-02-28    0.002222\n",
       "2016-02-28    0.002199\n",
       "2015-02-28    0.002152\n",
       "2017-02-28    0.002082\n",
       "2019-02-28    0.001988\n",
       "                ...   \n",
       "2016-07-02    0.000257\n",
       "2015-04-14    0.000234\n",
       "2015-11-20    0.000234\n",
       "2017-04-04    0.000234\n",
       "2019-12-21    0.000234\n",
       "Name: proportion, Length: 1825, dtype: float64"
      ]
     },
     "metadata": {},
     "output_type": "display_data"
    },
    {
     "name": "stdout",
     "output_type": "stream",
     "text": [
      "--------------\n",
      " Describe\n"
     ]
    },
    {
     "data": {
      "text/plain": [
       "count          42752\n",
       "unique          1825\n",
       "top       2018-02-28\n",
       "freq              95\n",
       "Name: date_dt, dtype: object"
      ]
     },
     "metadata": {},
     "output_type": "display_data"
    },
    {
     "name": "stdout",
     "output_type": "stream",
     "text": [
      "--------------\n",
      "La distribución de la columna DAY\n",
      "Esta columna tiene 8 valores únicos\n"
     ]
    },
    {
     "data": {
      "text/plain": [
       "day\n",
       "friday       0.145303\n",
       "thursday     0.144976\n",
       "sunday       0.143830\n",
       "saturday     0.143783\n",
       "monday       0.141163\n",
       "tuesday      0.141093\n",
       "wednesday    0.139853\n",
       "Name: proportion, dtype: float64"
      ]
     },
     "metadata": {},
     "output_type": "display_data"
    },
    {
     "name": "stdout",
     "output_type": "stream",
     "text": [
      "--------------\n",
      " Describe\n"
     ]
    },
    {
     "data": {
      "text/plain": [
       "count      42752\n",
       "unique         7\n",
       "top       friday\n",
       "freq        6212\n",
       "Name: day, dtype: object"
      ]
     },
     "metadata": {},
     "output_type": "display_data"
    },
    {
     "name": "stdout",
     "output_type": "stream",
     "text": [
      "--------------\n"
     ]
    }
   ],
   "source": [
    "# Analisis de todas las columnas categóricas\n",
    "sp_eda.analisis_general_cat(df_limpios)"
   ]
  },
  {
   "cell_type": "code",
   "execution_count": 8,
   "id": "fa1b9c1d",
   "metadata": {},
   "outputs": [
    {
     "data": {
      "image/png": "[encoded data removed]",
      "text/plain": [
       "<Figure size 1500x3000 with 16 Axes>"
      ]
     },
     "metadata": {},
     "output_type": "display_data"
    }
   ],
   "source": [
    "# Vemos los subplots de las categoricas\n",
    "sp_visualizacion.subplot_col_cat(df_limpios)"
   ]
  },
  {
   "cell_type": "markdown",
   "id": "46dd796a",
   "metadata": {},
   "source": [
    "## Gestión de nulos de categoricas:"
   ]
  },
  {
   "cell_type": "code",
   "execution_count": 9,
   "id": "d0f1f42b",
   "metadata": {},
   "outputs": [
    {
     "name": "stdout",
     "output_type": "stream",
     "text": [
      "<class 'pandas.core.frame.DataFrame'>\n",
      "RangeIndex: 43000 entries, 0 to 42999\n",
      "Data columns (total 16 columns):\n",
      " #   Column          Non-Null Count  Dtype \n",
      "---  ------          --------------  ----- \n",
      " 0   job             42655 non-null  object\n",
      " 1   marital         42915 non-null  object\n",
      " 2   education       41193 non-null  object\n",
      " 3   contact         43000 non-null  object\n",
      " 4   poutcome        43000 non-null  object\n",
      " 5   emp_var_rate    43000 non-null  object\n",
      " 6   cons_price_idx  42529 non-null  object\n",
      " 7   cons_conf_idx   43000 non-null  object\n",
      " 8   euribor3m       33744 non-null  object\n",
      " 9   nr_employed     43000 non-null  object\n",
      " 10  y               43000 non-null  object\n",
      " 11  latitude        43000 non-null  object\n",
      " 12  longitude       43000 non-null  object\n",
      " 13  id_             43000 non-null  object\n",
      " 14  date_dt         42752 non-null  object\n",
      " 15  day             42752 non-null  object\n",
      "dtypes: object(16)\n",
      "memory usage: 5.2+ MB\n"
     ]
    }
   ],
   "source": [
    "df_cat = df_limpios[df_limpios.select_dtypes(include=\"O\").columns]\n",
    "df_cat.info()"
   ]
  },
  {
   "cell_type": "code",
   "execution_count": 10,
   "id": "ff28b452",
   "metadata": {},
   "outputs": [
    {
     "data": {
      "text/plain": [
       "job                0.802326\n",
       "marital            0.197674\n",
       "education          4.202326\n",
       "contact            0.000000\n",
       "poutcome           0.000000\n",
       "emp_var_rate       0.000000\n",
       "cons_price_idx     1.095349\n",
       "cons_conf_idx      0.000000\n",
       "euribor3m         21.525581\n",
       "nr_employed        0.000000\n",
       "y                  0.000000\n",
       "latitude           0.000000\n",
       "longitude          0.000000\n",
       "id_                0.000000\n",
       "date_dt            0.576744\n",
       "day                0.576744\n",
       "dtype: float64"
      ]
     },
     "execution_count": 10,
     "metadata": {},
     "output_type": "execute_result"
    }
   ],
   "source": [
    "sp_eda.calcular_nulos(df_cat)[1]"
   ]
  },
  {
   "cell_type": "markdown",
   "id": "ae267f2b",
   "metadata": {},
   "source": [
    "Vemos que no tenemos ninguna columna con una cantidad de nulos por encima del 50%. Vamos a gestionar los nulos, rellenando esos valores."
   ]
  },
  {
   "cell_type": "code",
   "execution_count": 11,
   "id": "e9ca2991",
   "metadata": {},
   "outputs": [
    {
     "name": "stdout",
     "output_type": "stream",
     "text": [
      "La distribución de la columna JOB\n",
      "Esta columna tiene 12 valores únicos\n"
     ]
    },
    {
     "data": {
      "text/plain": [
       "job\n",
       "admin.           0.254906\n",
       "blue-collar      0.226328\n",
       "technician       0.164717\n",
       "services         0.097574\n",
       "management       0.071504\n",
       "retired          0.041965\n",
       "entrepreneur     0.035682\n",
       "self-employed    0.034908\n",
       "housemaid        0.026328\n",
       "unemployed       0.024921\n",
       "student          0.021170\n",
       "Name: proportion, dtype: float64"
      ]
     },
     "metadata": {},
     "output_type": "display_data"
    },
    {
     "name": "stdout",
     "output_type": "stream",
     "text": [
      "--------------\n",
      " Describe\n"
     ]
    },
    {
     "data": {
      "text/plain": [
       "count      42655\n",
       "unique        11\n",
       "top       admin.\n",
       "freq       10873\n",
       "Name: job, dtype: object"
      ]
     },
     "metadata": {},
     "output_type": "display_data"
    },
    {
     "name": "stdout",
     "output_type": "stream",
     "text": [
      "--------------\n",
      "La distribución de la columna MARITAL\n",
      "Esta columna tiene 4 valores únicos\n"
     ]
    },
    {
     "data": {
      "text/plain": [
       "marital\n",
       "married     0.605825\n",
       "single      0.282069\n",
       "divorced    0.112105\n",
       "Name: proportion, dtype: float64"
      ]
     },
     "metadata": {},
     "output_type": "display_data"
    },
    {
     "name": "stdout",
     "output_type": "stream",
     "text": [
      "--------------\n",
      " Describe\n"
     ]
    },
    {
     "data": {
      "text/plain": [
       "count       42915\n",
       "unique          3\n",
       "top       married\n",
       "freq        25999\n",
       "Name: marital, dtype: object"
      ]
     },
     "metadata": {},
     "output_type": "display_data"
    },
    {
     "name": "stdout",
     "output_type": "stream",
     "text": [
      "--------------\n",
      "La distribución de la columna EDUCATION\n",
      "Esta columna tiene 8 valores únicos\n"
     ]
    },
    {
     "data": {
      "text/plain": [
       "education\n",
       "university.degree      0.308839\n",
       "high.school            0.240939\n",
       "basic.9y               0.153157\n",
       "professional.course    0.132959\n",
       "basic.4y               0.105746\n",
       "basic.6y               0.057922\n",
       "illiterate             0.000437\n",
       "Name: proportion, dtype: float64"
      ]
     },
     "metadata": {},
     "output_type": "display_data"
    },
    {
     "name": "stdout",
     "output_type": "stream",
     "text": [
      "--------------\n",
      " Describe\n"
     ]
    },
    {
     "data": {
      "text/plain": [
       "count                 41193\n",
       "unique                    7\n",
       "top       university.degree\n",
       "freq                  12722\n",
       "Name: education, dtype: object"
      ]
     },
     "metadata": {},
     "output_type": "display_data"
    },
    {
     "name": "stdout",
     "output_type": "stream",
     "text": [
      "--------------\n",
      "La distribución de la columna CONTACT\n",
      "Esta columna tiene 2 valores únicos\n"
     ]
    },
    {
     "data": {
      "text/plain": [
       "contact\n",
       "cellular     0.637116\n",
       "telephone    0.362884\n",
       "Name: proportion, dtype: float64"
      ]
     },
     "metadata": {},
     "output_type": "display_data"
    },
    {
     "name": "stdout",
     "output_type": "stream",
     "text": [
      "--------------\n",
      " Describe\n"
     ]
    },
    {
     "data": {
      "text/plain": [
       "count        43000\n",
       "unique           2\n",
       "top       cellular\n",
       "freq         27396\n",
       "Name: contact, dtype: object"
      ]
     },
     "metadata": {},
     "output_type": "display_data"
    },
    {
     "name": "stdout",
     "output_type": "stream",
     "text": [
      "--------------\n",
      "La distribución de la columna POUTCOME\n",
      "Esta columna tiene 3 valores únicos\n"
     ]
    },
    {
     "data": {
      "text/plain": [
       "poutcome\n",
       "nonexistent    0.862860\n",
       "failure        0.103744\n",
       "success        0.033395\n",
       "Name: proportion, dtype: float64"
      ]
     },
     "metadata": {},
     "output_type": "display_data"
    },
    {
     "name": "stdout",
     "output_type": "stream",
     "text": [
      "--------------\n",
      " Describe\n"
     ]
    },
    {
     "data": {
      "text/plain": [
       "count           43000\n",
       "unique              3\n",
       "top       nonexistent\n",
       "freq            37103\n",
       "Name: poutcome, dtype: object"
      ]
     },
     "metadata": {},
     "output_type": "display_data"
    },
    {
     "name": "stdout",
     "output_type": "stream",
     "text": [
      "--------------\n",
      "La distribución de la columna EMP_VAR_RATE\n",
      "Esta columna tiene 10 valores únicos\n"
     ]
    },
    {
     "data": {
      "text/plain": [
       "emp_var_rate\n",
       "1,4     0.394884\n",
       "-1,8    0.223721\n",
       "1,1     0.186512\n",
       "-0,1    0.089070\n",
       "-2,9    0.040651\n",
       "-3,4    0.026349\n",
       "-1,7    0.018884\n",
       "-1,1    0.015465\n",
       "-3,0    0.004209\n",
       "-0,2    0.000256\n",
       "Name: proportion, dtype: float64"
      ]
     },
     "metadata": {},
     "output_type": "display_data"
    },
    {
     "name": "stdout",
     "output_type": "stream",
     "text": [
      "--------------\n",
      " Describe\n"
     ]
    },
    {
     "data": {
      "text/plain": [
       "count     43000\n",
       "unique       10\n",
       "top         1,4\n",
       "freq      16980\n",
       "Name: emp_var_rate, dtype: object"
      ]
     },
     "metadata": {},
     "output_type": "display_data"
    },
    {
     "name": "stdout",
     "output_type": "stream",
     "text": [
      "--------------\n",
      "La distribución de la columna CONS_PRICE_IDX\n",
      "Esta columna tiene 27 valores únicos\n"
     ]
    },
    {
     "data": {
      "text/plain": [
       "cons_price_idx\n",
       "93,994    0.186649\n",
       "93,918    0.163112\n",
       "92,893    0.140728\n",
       "93,444    0.125773\n",
       "94,465    0.106327\n",
       "93,2      0.087728\n",
       "93,075    0.060006\n",
       "92,201    0.018881\n",
       "92,963    0.017447\n",
       "92,431    0.011075\n",
       "92,649    0.008818\n",
       "94,215    0.007524\n",
       "94,199    0.007430\n",
       "92,843    0.007007\n",
       "92,379    0.006443\n",
       "93,369    0.006372\n",
       "94,027    0.005690\n",
       "94,055    0.005549\n",
       "93,876    0.005267\n",
       "94,601    0.004985\n",
       "92,469    0.004326\n",
       "92,713    0.004209\n",
       "93,749    0.004209\n",
       "94,767    0.003057\n",
       "93,798    0.001129\n",
       "92,756    0.000259\n",
       "Name: proportion, dtype: float64"
      ]
     },
     "metadata": {},
     "output_type": "display_data"
    },
    {
     "name": "stdout",
     "output_type": "stream",
     "text": [
      "--------------\n",
      " Describe\n"
     ]
    },
    {
     "data": {
      "text/plain": [
       "count      42529\n",
       "unique        26\n",
       "top       93,994\n",
       "freq        7938\n",
       "Name: cons_price_idx, dtype: object"
      ]
     },
     "metadata": {},
     "output_type": "display_data"
    },
    {
     "name": "stdout",
     "output_type": "stream",
     "text": [
      "--------------\n",
      "La distribución de la columna CONS_CONF_IDX\n",
      "Esta columna tiene 26 valores únicos\n"
     ]
    },
    {
     "data": {
      "text/plain": [
       "cons_conf_idx\n",
       "-36,4    0.186512\n",
       "-42,7    0.162884\n",
       "-46,2    0.140860\n",
       "-36,1    0.125767\n",
       "-41,8    0.106233\n",
       "-42      0.087953\n",
       "-47,1    0.060023\n",
       "-31,4    0.018953\n",
       "-40,8    0.017395\n",
       "-26,9    0.011093\n",
       "-30,1    0.008814\n",
       "-40,3    0.007628\n",
       "-37,5    0.007395\n",
       "-50      0.006953\n",
       "-29,8    0.006442\n",
       "-34,8    0.006395\n",
       "-38,3    0.005698\n",
       "-39,8    0.005558\n",
       "-40      0.005233\n",
       "-49,5    0.004977\n",
       "-33,6    0.004302\n",
       "-34,6    0.004256\n",
       "-33      0.004209\n",
       "-50,8    0.003093\n",
       "-40,4    0.001116\n",
       "-45,9    0.000256\n",
       "Name: proportion, dtype: float64"
      ]
     },
     "metadata": {},
     "output_type": "display_data"
    },
    {
     "name": "stdout",
     "output_type": "stream",
     "text": [
      "--------------\n",
      " Describe\n"
     ]
    },
    {
     "data": {
      "text/plain": [
       "count     43000\n",
       "unique       26\n",
       "top       -36,4\n",
       "freq       8020\n",
       "Name: cons_conf_idx, dtype: object"
      ]
     },
     "metadata": {},
     "output_type": "display_data"
    },
    {
     "name": "stdout",
     "output_type": "stream",
     "text": [
      "--------------\n",
      "La distribución de la columna EURIBOR3M\n",
      "Esta columna tiene 310 valores únicos\n"
     ]
    },
    {
     "data": {
      "text/plain": [
       "euribor3m\n",
       "4,857    0.067775\n",
       "4,962    0.062945\n",
       "4,963    0.059833\n",
       "4,961    0.047238\n",
       "4,964    0.028568\n",
       "           ...   \n",
       "3,743    0.000030\n",
       "3,563    0.000030\n",
       "3,488    0.000030\n",
       "3,428    0.000030\n",
       "0,969    0.000030\n",
       "Name: proportion, Length: 309, dtype: float64"
      ]
     },
     "metadata": {},
     "output_type": "display_data"
    },
    {
     "name": "stdout",
     "output_type": "stream",
     "text": [
      "--------------\n",
      " Describe\n"
     ]
    },
    {
     "data": {
      "text/plain": [
       "count     33744\n",
       "unique      309\n",
       "top       4,857\n",
       "freq       2287\n",
       "Name: euribor3m, dtype: object"
      ]
     },
     "metadata": {},
     "output_type": "display_data"
    },
    {
     "name": "stdout",
     "output_type": "stream",
     "text": [
      "--------------\n",
      "La distribución de la columna NR_EMPLOYED\n",
      "Esta columna tiene 11 valores únicos\n"
     ]
    },
    {
     "data": {
      "text/plain": [
       "nr_employed\n",
       "5228,1    0.394884\n",
       "5099,1    0.207837\n",
       "5191      0.186512\n",
       "5195,8    0.089070\n",
       "5076,2    0.040651\n",
       "5017,5    0.026349\n",
       "4991,6    0.018884\n",
       "5008,7    0.015884\n",
       "4963,6    0.015465\n",
       "5023,5    0.004209\n",
       "5176,3    0.000256\n",
       "Name: proportion, dtype: float64"
      ]
     },
     "metadata": {},
     "output_type": "display_data"
    },
    {
     "name": "stdout",
     "output_type": "stream",
     "text": [
      "--------------\n",
      " Describe\n"
     ]
    },
    {
     "data": {
      "text/plain": [
       "count      43000\n",
       "unique        11\n",
       "top       5228,1\n",
       "freq       16980\n",
       "Name: nr_employed, dtype: object"
      ]
     },
     "metadata": {},
     "output_type": "display_data"
    },
    {
     "name": "stdout",
     "output_type": "stream",
     "text": [
      "--------------\n",
      "La distribución de la columna Y\n",
      "Esta columna tiene 2 valores únicos\n"
     ]
    },
    {
     "data": {
      "text/plain": [
       "y\n",
       "no     0.887349\n",
       "yes    0.112651\n",
       "Name: proportion, dtype: float64"
      ]
     },
     "metadata": {},
     "output_type": "display_data"
    },
    {
     "name": "stdout",
     "output_type": "stream",
     "text": [
      "--------------\n",
      " Describe\n"
     ]
    },
    {
     "data": {
      "text/plain": [
       "count     43000\n",
       "unique        2\n",
       "top          no\n",
       "freq      38156\n",
       "Name: y, dtype: object"
      ]
     },
     "metadata": {},
     "output_type": "display_data"
    },
    {
     "name": "stdout",
     "output_type": "stream",
     "text": [
      "--------------\n",
      "La distribución de la columna LATITUDE\n",
      "Esta columna tiene 20491 valores únicos\n"
     ]
    },
    {
     "data": {
      "text/plain": [
       "latitude\n",
       "44,675    0.000233\n",
       "36,826    0.000209\n",
       "30,579    0.000186\n",
       "47,146    0.000186\n",
       "32,888    0.000186\n",
       "            ...   \n",
       "29,918    0.000023\n",
       "31,848    0.000023\n",
       "42,991    0.000023\n",
       "46,966    0.000023\n",
       "27,772    0.000023\n",
       "Name: proportion, Length: 20491, dtype: float64"
      ]
     },
     "metadata": {},
     "output_type": "display_data"
    },
    {
     "name": "stdout",
     "output_type": "stream",
     "text": [
      "--------------\n",
      " Describe\n"
     ]
    },
    {
     "data": {
      "text/plain": [
       "count      43000\n",
       "unique     20491\n",
       "top       44,675\n",
       "freq          10\n",
       "Name: latitude, dtype: object"
      ]
     },
     "metadata": {},
     "output_type": "display_data"
    },
    {
     "name": "stdout",
     "output_type": "stream",
     "text": [
      "--------------\n",
      "La distribución de la columna LONGITUDE\n",
      "Esta columna tiene 30448 valores únicos\n"
     ]
    },
    {
     "data": {
      "text/plain": [
       "longitude\n",
       "-105,981    0.000140\n",
       "-109,152    0.000140\n",
       "-84,358     0.000140\n",
       "-80,0       0.000140\n",
       "-88,922     0.000140\n",
       "              ...   \n",
       "-80,161     0.000023\n",
       "-118,178    0.000023\n",
       "-116,422    0.000023\n",
       "-73,992     0.000023\n",
       "-105,026    0.000023\n",
       "Name: proportion, Length: 30448, dtype: float64"
      ]
     },
     "metadata": {},
     "output_type": "display_data"
    },
    {
     "name": "stdout",
     "output_type": "stream",
     "text": [
      "--------------\n",
      " Describe\n"
     ]
    },
    {
     "data": {
      "text/plain": [
       "count        43000\n",
       "unique       30448\n",
       "top       -105,981\n",
       "freq             6\n",
       "Name: longitude, dtype: object"
      ]
     },
     "metadata": {},
     "output_type": "display_data"
    },
    {
     "name": "stdout",
     "output_type": "stream",
     "text": [
      "--------------\n",
      "La distribución de la columna ID_\n",
      "Esta columna tiene 43000 valores únicos\n"
     ]
    },
    {
     "data": {
      "text/plain": [
       "id_\n",
       "089b39d8-e4d0-461b-87d4-814d71e0e079    0.000023\n",
       "c25b5d31-bb7e-41af-898d-42bf3e479351    0.000023\n",
       "bfd6bad9-f23a-445a-838e-10ee90110534    0.000023\n",
       "075b0e72-b5e3-43f4-90cd-29f9090b2b1a    0.000023\n",
       "482a2d86-c9f0-46b7-9f6f-82c769690d48    0.000023\n",
       "                                          ...   \n",
       "27e317a2-722c-454d-850b-97b536029c81    0.000023\n",
       "6d9c117f-af67-4a89-83db-caf514a42374    0.000023\n",
       "6a229b87-6bf9-4339-9639-b98555df71e7    0.000023\n",
       "cc891cf7-206c-47f0-804f-20b5b757d5fc    0.000023\n",
       "993bbbd6-4dbc-4a40-a408-f91f8462bee6    0.000023\n",
       "Name: proportion, Length: 43000, dtype: float64"
      ]
     },
     "metadata": {},
     "output_type": "display_data"
    },
    {
     "name": "stdout",
     "output_type": "stream",
     "text": [
      "--------------\n",
      " Describe\n"
     ]
    },
    {
     "data": {
      "text/plain": [
       "count                                    43000\n",
       "unique                                   43000\n",
       "top       089b39d8-e4d0-461b-87d4-814d71e0e079\n",
       "freq                                         1\n",
       "Name: id_, dtype: object"
      ]
     },
     "metadata": {},
     "output_type": "display_data"
    },
    {
     "name": "stdout",
     "output_type": "stream",
     "text": [
      "--------------\n",
      "La distribución de la columna DATE_DT\n",
      "Esta columna tiene 1826 valores únicos\n"
     ]
    },
    {
     "data": {
      "text/plain": [
       "date_dt\n",
       "2018-02-28    0.002222\n",
       "2016-02-28    0.002199\n",
       "2015-02-28    0.002152\n",
       "2017-02-28    0.002082\n",
       "2019-02-28    0.001988\n",
       "                ...   \n",
       "2016-07-02    0.000257\n",
       "2015-04-14    0.000234\n",
       "2015-11-20    0.000234\n",
       "2017-04-04    0.000234\n",
       "2019-12-21    0.000234\n",
       "Name: proportion, Length: 1825, dtype: float64"
      ]
     },
     "metadata": {},
     "output_type": "display_data"
    },
    {
     "name": "stdout",
     "output_type": "stream",
     "text": [
      "--------------\n",
      " Describe\n"
     ]
    },
    {
     "data": {
      "text/plain": [
       "count          42752\n",
       "unique          1825\n",
       "top       2018-02-28\n",
       "freq              95\n",
       "Name: date_dt, dtype: object"
      ]
     },
     "metadata": {},
     "output_type": "display_data"
    },
    {
     "name": "stdout",
     "output_type": "stream",
     "text": [
      "--------------\n",
      "La distribución de la columna DAY\n",
      "Esta columna tiene 8 valores únicos\n"
     ]
    },
    {
     "data": {
      "text/plain": [
       "day\n",
       "friday       0.145303\n",
       "thursday     0.144976\n",
       "sunday       0.143830\n",
       "saturday     0.143783\n",
       "monday       0.141163\n",
       "tuesday      0.141093\n",
       "wednesday    0.139853\n",
       "Name: proportion, dtype: float64"
      ]
     },
     "metadata": {},
     "output_type": "display_data"
    },
    {
     "name": "stdout",
     "output_type": "stream",
     "text": [
      "--------------\n",
      " Describe\n"
     ]
    },
    {
     "data": {
      "text/plain": [
       "count      42752\n",
       "unique         7\n",
       "top       friday\n",
       "freq        6212\n",
       "Name: day, dtype: object"
      ]
     },
     "metadata": {},
     "output_type": "display_data"
    },
    {
     "name": "stdout",
     "output_type": "stream",
     "text": [
      "--------------\n"
     ]
    }
   ],
   "source": [
    "sp_eda.analisis_general_cat(df_cat)"
   ]
  },
  {
   "cell_type": "markdown",
   "id": "40cb1321",
   "metadata": {},
   "source": [
    "Dado que no hay ninguna columna en la que destaque ningun valor de la moda. Rellenamos con \"unknown\""
   ]
  },
  {
   "cell_type": "code",
   "execution_count": 12,
   "id": "dd92735f",
   "metadata": {},
   "outputs": [
    {
     "data": {
      "text/plain": [
       "job               0.0\n",
       "marital           0.0\n",
       "education         0.0\n",
       "contact           0.0\n",
       "poutcome          0.0\n",
       "emp_var_rate      0.0\n",
       "cons_price_idx    0.0\n",
       "cons_conf_idx     0.0\n",
       "euribor3m         0.0\n",
       "nr_employed       0.0\n",
       "y                 0.0\n",
       "latitude          0.0\n",
       "longitude         0.0\n",
       "id_               0.0\n",
       "date_dt           0.0\n",
       "day               0.0\n",
       "dtype: float64"
      ]
     },
     "execution_count": 12,
     "metadata": {},
     "output_type": "execute_result"
    }
   ],
   "source": [
    "df_cat = df_cat.fillna(\"unknown\")\n",
    "sp_eda.calcular_nulos(df_cat)[1]"
   ]
  },
  {
   "cell_type": "code",
   "execution_count": 13,
   "id": "0f1f9801",
   "metadata": {},
   "outputs": [
    {
     "data": {
      "text/plain": [
       "age               11.906977\n",
       "job                0.000000\n",
       "marital            0.000000\n",
       "education          0.000000\n",
       "default           20.886047\n",
       "housing            2.386047\n",
       "loan               2.386047\n",
       "contact            0.000000\n",
       "duration           0.000000\n",
       "campaign           0.000000\n",
       "pdays              0.000000\n",
       "previous           0.000000\n",
       "poutcome           0.000000\n",
       "emp_var_rate       0.000000\n",
       "cons_price_idx     0.000000\n",
       "cons_conf_idx      0.000000\n",
       "euribor3m          0.000000\n",
       "nr_employed        0.000000\n",
       "y                  0.000000\n",
       "latitude           0.000000\n",
       "longitude          0.000000\n",
       "id_                0.000000\n",
       "date_dt            0.000000\n",
       "year               0.576744\n",
       "month              0.576744\n",
       "day                0.000000\n",
       "quarter            0.576744\n",
       "dtype: float64"
      ]
     },
     "execution_count": 13,
     "metadata": {},
     "output_type": "execute_result"
    }
   ],
   "source": [
    "df_limpios[df_limpios.select_dtypes(include=\"O\").columns] = df_cat\n",
    "sp_eda.calcular_nulos(df_limpios)[1]"
   ]
  },
  {
   "cell_type": "code",
   "execution_count": 14,
   "id": "0ab303b6",
   "metadata": {},
   "outputs": [],
   "source": [
    "df_limpios.to_csv('../Data/data_limpios.csv', index=False)"
   ]
  }
 ],
 "metadata": {
  "kernelspec": {
   "display_name": "venv",
   "language": "python",
   "name": "python3"
  },
  "language_info": {
   "codemirror_mode": {
    "name": "ipython",
    "version": 3
   },
   "file_extension": ".py",
   "mimetype": "text/x-python",
   "name": "python",
   "nbconvert_exporter": "python",
   "pygments_lexer": "ipython3",
   "version": "3.13.2"
  }
 },
 "nbformat": 4,
 "nbformat_minor": 5
}
