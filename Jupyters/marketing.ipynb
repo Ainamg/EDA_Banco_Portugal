{
 "cells": [
  {
   "cell_type": "markdown",
   "id": "68474ad5",
   "metadata": {},
   "source": [
    "# Introducción al Análisis de Marketing\n",
    "\n",
    "## Importancia\n",
    "- Conocimiento cliente\n",
    "- ROI\n",
    "- Personalización de experiencias\n",
    "- Efectividad de la campaña\n",
    "\n",
    "## Términos clave\n",
    "- Funnel de conversión\n",
    "- Segmentación de mercado\n",
    "- Customer Liftime Value (CLV)\n",
    "- Retención y Churn\n",
    "\n",
    "## Ejemplos\n",
    "- Presonalización de campañas\n",
    "- Optimizar los presupuestos publicitarios\n",
    "- Efectividad de las campañas\n",
    "\n"
   ]
  },
  {
   "cell_type": "markdown",
   "id": "47067d64",
   "metadata": {},
   "source": [
    "# Métricas clave de marketing\n",
    "## 1. KPIS's de Adquisición (Enfocados a atraer nuevos clientes)\n",
    "\n",
    "### CAC (Costo de adquisición del cliente)\n",
    "CAC = Total invertido en marketing y ventas / Número de nuevos clientes adquiridos\n",
    "\n",
    "### CTR (Clicks por impresión)\n",
    "CTR (%)= (Clicks en el anuncio/Impresiones totales)*100\n",
    "\n",
    "### CPC (Costo por click)\n",
    "CPC = Costot toal de la campaña / Número de clicks\n",
    "\n",
    "## 2. KPIS's de Conversión (Miden el rendimiento de las ventas y acciones clave)\n",
    "\n",
    "### Tasa de conversión\n",
    "Tasa de conversión (%)= (Número de conversiones/Número de visitantes únicos)*100\n",
    "\n",
    "### ROAS (Rentabilidad de la inversión en publicidad)\n",
    "ROAS = Ingresos generados por la campaña/Inversión publicitaria\n",
    "\n",
    "## 3. KPI's de Retención (Analizan el comportamiento de los clientes YA existentes)\n",
    "\n",
    "### Tasa de churn (Abandono)\n",
    "Tasa de churn (%)= (Número de clientes perdidos en un período/Número total de clientes al inicio de período)*100\n",
    "\n",
    "### Tasa de Retención (Mantener al cliente)\n",
    "Tasa de retención (%)= 100 - Tasa de Churn(%)\n",
    "\n",
    "### CLV (Valor que genera el cliente)\n",
    "CLV = (Ingreso Promedio por Compra * Frecuencia de Compra * Duración del CLiente) * Margen de Beneficio\n",
    "\n",
    "\n"
   ]
  },
  {
   "cell_type": "code",
   "execution_count": 32,
   "id": "d49b447a",
   "metadata": {},
   "outputs": [],
   "source": [
    "import pandas as pd\n",
    "import seaborn as sns\n",
    "pd.set_option('display.max_columns', None)\n",
    "pd.set_option('display.float_format', lambda x : '%.4f' % x)"
   ]
  },
  {
   "cell_type": "code",
   "execution_count": 3,
   "id": "2c030d9f",
   "metadata": {},
   "outputs": [],
   "source": [
    "df = pd.read_csv('../data/data_limpios.csv')"
   ]
  },
  {
   "cell_type": "code",
   "execution_count": 4,
   "id": "0999a44e",
   "metadata": {},
   "outputs": [
    {
     "data": {
      "text/plain": [
       "Index(['job', 'marital', 'education', 'housing', 'loan', 'contact', 'duration',\n",
       "       'campaign', 'pdays', 'previous', 'poutcome', 'emp_var_rate',\n",
       "       'cons_price_idx', 'cons_conf_idx', 'euribor3m', 'nr_employed', 'y',\n",
       "       'latitude', 'longitude', 'id_', 'date_dt', 'year', 'month', 'day',\n",
       "       'quarter', 'age_iterative', 'default_iterative'],\n",
       "      dtype='object')"
      ]
     },
     "execution_count": 4,
     "metadata": {},
     "output_type": "execute_result"
    }
   ],
   "source": [
    "df.columns"
   ]
  },
  {
   "cell_type": "markdown",
   "id": "a2d1f74f",
   "metadata": {},
   "source": [
    "### Métricas a generar\n",
    "- Tasa de conversión\n",
    "- Tasa de rechazo\n",
    "- Tasa de éxito por campaña\n",
    "- Duración media de llamada\n",
    "- Contactos promedio por cliente\n",
    "- Tiempo promedio desde último contacto\n",
    "- Tasa de conversión por segmento\n",
    "- Conversión por tipo de contacto\n",
    "- Conversión por préstamo/hipoteca\n",
    "- Ratio de eficiencia por duración\n",
    "- Conversión por mes/año\n",
    "- Evolución temporal\n",
    "- Correlación con la variable objetivo\n"
   ]
  },
  {
   "cell_type": "code",
   "execution_count": 57,
   "id": "336bd8e8",
   "metadata": {},
   "outputs": [
    {
     "name": "stdout",
     "output_type": "stream",
     "text": [
      "conversion_rate     11.2651\n",
      "rejection_rate      88.7349\n",
      "campaign_success     0.0456\n",
      "dfavg_duration     255.9945\n",
      "avg_contacts         2.4714\n",
      "avg_pdays          999.0000\n",
      "Name: 0, dtype: float64\n"
     ]
    }
   ],
   "source": [
    "df['conversion_rate'] = (df['y'].value_counts(normalize=True)['yes']) * 100\n",
    "df['rejection_rate'] = (df['y'].value_counts(normalize=True)['no']) * 100\n",
    "df['campaign_success'] = df[df['y']=='yes']['campaign'].count() / df['campaign'].sum()\n",
    "df['dfavg_duration'] = df['duration'].mean()\n",
    "df['avg_contacts'] = df['campaign'].mean()\n",
    "df['avg_pdays'] = df[df['pdays'] > 0]['pdays'].mean()\n",
    "print(df[['conversion_rate', 'rejection_rate', 'campaign_success', 'dfavg_duration', 'avg_contacts', 'avg_pdays']].iloc[0])"
   ]
  },
  {
   "cell_type": "code",
   "execution_count": 49,
   "id": "9b65bdf7",
   "metadata": {},
   "outputs": [
    {
     "data": {
      "text/plain": [
       "job\n",
       "admin.          13.0139\n",
       "blue-collar      6.8883\n",
       "entrepreneur     8.2786\n",
       "housemaid        9.8842\n",
       "management      11.2131\n",
       "retired         25.1955\n",
       "self-employed   10.8126\n",
       "services         8.0730\n",
       "student         31.3400\n",
       "technician      10.8454\n",
       "unemployed      14.3932\n",
       "unknown         11.3043\n",
       "Name: yes, dtype: float64"
      ]
     },
     "execution_count": 49,
     "metadata": {},
     "output_type": "execute_result"
    }
   ],
   "source": [
    "#Tasa de conversión por profesión (Ver qué grupos responden mejor)\n",
    "df.groupby('job')['y'].value_counts(normalize=True).unstack()['yes'] * 100\n"
   ]
  },
  {
   "cell_type": "code",
   "execution_count": 51,
   "id": "9240ca33",
   "metadata": {},
   "outputs": [
    {
     "data": {
      "text/plain": [
       "marital\n",
       "divorced   10.1850\n",
       "married    10.2119\n",
       "single     13.9281\n",
       "unknown    15.2941\n",
       "Name: yes, dtype: float64"
      ]
     },
     "execution_count": 51,
     "metadata": {},
     "output_type": "execute_result"
    }
   ],
   "source": [
    "#Tasa de conversión por estado civil (Ver qué grupos responden mejor)\n",
    "df.groupby('marital')['y'].value_counts(normalize=True).unstack()['yes'] * 100\n"
   ]
  },
  {
   "cell_type": "code",
   "execution_count": 52,
   "id": "e571ec78",
   "metadata": {},
   "outputs": [
    {
     "data": {
      "text/plain": [
       "education\n",
       "basic.4y              10.2847\n",
       "basic.6y               8.1308\n",
       "basic.9y               7.8142\n",
       "high.school           10.8413\n",
       "illiterate            22.2222\n",
       "professional.course   11.3201\n",
       "university.degree     13.7400\n",
       "unknown               14.4438\n",
       "Name: yes, dtype: float64"
      ]
     },
     "execution_count": 52,
     "metadata": {},
     "output_type": "execute_result"
    }
   ],
   "source": [
    "#Tasa de conversión por nivel educativo (Ver qué grupos responden mejor)\n",
    "df.groupby('education')['y'].value_counts(normalize=True).unstack()['yes'] * 100\n"
   ]
  },
  {
   "cell_type": "code",
   "execution_count": 55,
   "id": "6ef935d4",
   "metadata": {},
   "outputs": [
    {
     "data": {
      "text/plain": [
       "contact\n",
       "cellular    14.7430\n",
       "telephone    5.1589\n",
       "Name: yes, dtype: float64"
      ]
     },
     "execution_count": 55,
     "metadata": {},
     "output_type": "execute_result"
    }
   ],
   "source": [
    "#Conversión por tipo de contacto (Qué canal es más efectivo)\n",
    "df.groupby('contact')['y'].value_counts(normalize=True).unstack()['yes'] * 100"
   ]
  },
  {
   "cell_type": "code",
   "execution_count": 54,
   "id": "4fba24d9",
   "metadata": {},
   "outputs": [
    {
     "data": {
      "text/plain": [
       "loan\n",
       "0.0000   11.3277\n",
       "1.0000   10.9155\n",
       "Name: yes, dtype: float64"
      ]
     },
     "execution_count": 54,
     "metadata": {},
     "output_type": "execute_result"
    }
   ],
   "source": [
    "#Conversión por préstamo\n",
    "df.groupby('loan')['y'].value_counts(normalize=True).unstack()['yes'] * 100"
   ]
  },
  {
   "cell_type": "code",
   "execution_count": null,
   "id": "aee73ef7",
   "metadata": {},
   "outputs": [
    {
     "data": {
      "text/plain": [
       "y\n",
       "no    219.4167\n",
       "yes   544.1162\n",
       "Name: duration, dtype: float64"
      ]
     },
     "execution_count": 37,
     "metadata": {},
     "output_type": "execute_result"
    }
   ],
   "source": [
    "#Ratio de eficiencia por duración (Mide si llamadas más cortas o más largas son más efectivas)\n",
    "df.groupby('y')['duration'].mean()"
   ]
  },
  {
   "cell_type": "code",
   "execution_count": null,
   "id": "9f272b62",
   "metadata": {},
   "outputs": [
    {
     "data": {
      "text/plain": [
       "month\n",
       "1.0000    11.6008\n",
       "2.0000    11.1266\n",
       "3.0000    10.7272\n",
       "4.0000    11.1949\n",
       "5.0000    10.6287\n",
       "6.0000    11.3341\n",
       "7.0000    11.5335\n",
       "8.0000    11.4577\n",
       "9.0000    10.2550\n",
       "10.0000   12.3645\n",
       "11.0000   11.4904\n",
       "12.0000   11.4465\n",
       "Name: yes, dtype: float64"
      ]
     },
     "execution_count": 39,
     "metadata": {},
     "output_type": "execute_result"
    }
   ],
   "source": [
    "#Conversión por mes (Mide cuándo las campañas son más efectivas)\n",
    "df.groupby('month')['y'].value_counts(normalize=True).unstack()['yes'] * 100"
   ]
  },
  {
   "cell_type": "code",
   "execution_count": null,
   "id": "8550ee77",
   "metadata": {},
   "outputs": [
    {
     "data": {
      "text/plain": [
       "<Axes: xlabel='month', ylabel='y'>"
      ]
     },
     "execution_count": 40,
     "metadata": {},
     "output_type": "execute_result"
    },
    {
     "data": {
      "image/png": "[encoded data removed]",
      "text/plain": [
       "<Figure size 640x480 with 1 Axes>"
      ]
     },
     "metadata": {},
     "output_type": "display_data"
    }
   ],
   "source": [
    "#Evolución temporal de la tasa de conversión\n",
    "sns.lineplot(data=df, x='month', y='y', estimator=lambda x: (x=='yes').mean())"
   ]
  },
  {
   "cell_type": "code",
   "execution_count": 56,
   "id": "b636e702",
   "metadata": {},
   "outputs": [
    {
     "name": "stderr",
     "output_type": "stream",
     "text": [
      "/Users/ainamartinezgomez/Desktop/EDA_Banco_Portugal/venv/lib/python3.13/site-packages/numpy/lib/_function_base_impl.py:3065: RuntimeWarning: invalid value encountered in divide\n",
      "  c /= stddev[:, None]\n",
      "/Users/ainamartinezgomez/Desktop/EDA_Banco_Portugal/venv/lib/python3.13/site-packages/numpy/lib/_function_base_impl.py:3066: RuntimeWarning: invalid value encountered in divide\n",
      "  c /= stddev[None, :]\n"
     ]
    },
    {
     "data": {
      "text/plain": [
       "duration             0.4142\n",
       "previous             0.2215\n",
       "age_iterative        0.0291\n",
       "housing              0.0118\n",
       "quarter              0.0067\n",
       "month                0.0043\n",
       "year                 0.0027\n",
       "dfavg_duration       0.0000\n",
       "conversion_rate      0.0000\n",
       "rejection_rate       0.0000\n",
       "campaign_success    -0.0000\n",
       "avg_contacts        -0.0000\n",
       "loan                -0.0047\n",
       "campaign            -0.0661\n",
       "pdays                   NaN\n",
       "default_iterative       NaN\n",
       "avg_pdays               NaN\n",
       "dtype: float64"
      ]
     },
     "execution_count": 56,
     "metadata": {},
     "output_type": "execute_result"
    }
   ],
   "source": [
    "#Correlación con la variable objetivo\n",
    "df_numeric = df.select_dtypes(include='number')\n",
    "df_numeric.corrwith(df['y'].apply(lambda x: 1 if x=='yes' else 0)).sort_values(ascending=False)"
   ]
  },
  {
   "cell_type": "code",
   "execution_count": 60,
   "id": "4988db9e",
   "metadata": {},
   "outputs": [],
   "source": [
    "df.to_csv('../Data/datos_metricas.csv', index=False)"
   ]
  }
 ],
 "metadata": {
  "kernelspec": {
   "display_name": "venv",
   "language": "python",
   "name": "python3"
  },
  "language_info": {
   "codemirror_mode": {
    "name": "ipython",
    "version": 3
   },
   "file_extension": ".py",
   "mimetype": "text/x-python",
   "name": "python",
   "nbconvert_exporter": "python",
   "pygments_lexer": "ipython3",
   "version": "3.13.2"
  }
 },
 "nbformat": 4,
 "nbformat_minor": 5
}
